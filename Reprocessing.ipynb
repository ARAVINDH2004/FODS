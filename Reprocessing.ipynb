{
  "nbformat": 4,
  "nbformat_minor": 0,
  "metadata": {
    "colab": {
      "provenance": [],
      "authorship_tag": "ABX9TyOhsOBfS8ojHYR8r/jCpIMw",
      "include_colab_link": true
    },
    "kernelspec": {
      "name": "python3",
      "display_name": "Python 3"
    },
    "language_info": {
      "name": "python"
    }
  },
  "cells": [
    {
      "cell_type": "markdown",
      "metadata": {
        "id": "view-in-github",
        "colab_type": "text"
      },
      "source": [
        "<a href=\"https://colab.research.google.com/github/ARAVINDH2004/FODS/blob/Reprocessing/Reprocessing.ipynb\" target=\"_parent\"><img src=\"https://colab.research.google.com/assets/colab-badge.svg\" alt=\"Open In Colab\"/></a>"
      ]
    },
    {
      "cell_type": "code",
      "execution_count": 1,
      "metadata": {
        "colab": {
          "base_uri": "https://localhost:8080/"
        },
        "id": "YI61y7ZNy-FZ",
        "outputId": "189002ca-24ea-45a9-a278-4a71e173bfa4"
      },
      "outputs": [
        {
          "output_type": "stream",
          "name": "stdout",
          "text": [
            "Mounted at /content/drive\n"
          ]
        }
      ],
      "source": [
        "from google.colab import drive\n",
        "drive.mount('/content/drive')"
      ]
    },
    {
      "cell_type": "code",
      "source": [
        "# remove rows\n",
        "from pandas import read_csv as rc\n",
        "df = rc('Data.csv')\n",
        "df.dropna(inplace = True)\n",
        "print(df.to_string())\n",
        "# print(df)"
      ],
      "metadata": {
        "colab": {
          "base_uri": "https://localhost:8080/"
        },
        "id": "O_EsLEqHfnX3",
        "outputId": "25eec47c-7d80-460d-caf2-8410214588e8"
      },
      "execution_count": 8,
      "outputs": [
        {
          "output_type": "stream",
          "name": "stdout",
          "text": [
            "   Country   Age   Salary Purchased\n",
            "0   France  44.0  72000.0        No\n",
            "1    Spain  27.0  48000.0       Yes\n",
            "2  Germany  30.0  54000.0        No\n",
            "3    Spain  38.0  61000.0        No\n",
            "5   France  35.0  58000.0       Yes\n",
            "7   France  48.0  79000.0       Yes\n",
            "8  Germany  50.0  83000.0        No\n",
            "9   France  37.0  67000.0       Yes\n"
          ]
        }
      ]
    },
    {
      "cell_type": "code",
      "source": [
        "# filling the missing data\n",
        "from pandas import read_csv as rc\n",
        "df = rc('Data.csv')\n",
        "df.fillna(666,inplace = True)\n",
        "print(df.to_string())"
      ],
      "metadata": {
        "colab": {
          "base_uri": "https://localhost:8080/"
        },
        "id": "6b1VMzpNlGOA",
        "outputId": "5bf30853-2c24-4193-8703-1884c0f20d11"
      },
      "execution_count": 11,
      "outputs": [
        {
          "output_type": "stream",
          "name": "stdout",
          "text": [
            "   Country    Age   Salary Purchased\n",
            "0   France   44.0  72000.0        No\n",
            "1    Spain   27.0  48000.0       Yes\n",
            "2  Germany   30.0  54000.0        No\n",
            "3    Spain   38.0  61000.0        No\n",
            "4  Germany   40.0    666.0       Yes\n",
            "5   France   35.0  58000.0       Yes\n",
            "6    Spain  666.0  52000.0        No\n",
            "7   France   48.0  79000.0       Yes\n",
            "8  Germany   50.0  83000.0        No\n",
            "9   France   37.0  67000.0       Yes\n"
          ]
        }
      ]
    },
    {
      "cell_type": "code",
      "source": [
        "# filling the missing data in the particular column\n",
        "from pandas import read_csv as rc\n",
        "df = rc('Data.csv')\n",
        "df[\"Salary\"].fillna(444 , inplace = True)\n",
        "print(df.to_string())"
      ],
      "metadata": {
        "colab": {
          "base_uri": "https://localhost:8080/"
        },
        "id": "4Ok9vgW-mA1z",
        "outputId": "3ee26180-52f0-4532-a0e1-7c1c02c8363a"
      },
      "execution_count": 12,
      "outputs": [
        {
          "output_type": "stream",
          "name": "stdout",
          "text": [
            "   Country   Age   Salary Purchased\n",
            "0   France  44.0  72000.0        No\n",
            "1    Spain  27.0  48000.0       Yes\n",
            "2  Germany  30.0  54000.0        No\n",
            "3    Spain  38.0  61000.0        No\n",
            "4  Germany  40.0    444.0       Yes\n",
            "5   France  35.0  58000.0       Yes\n",
            "6    Spain   NaN  52000.0        No\n",
            "7   France  48.0  79000.0       Yes\n",
            "8  Germany  50.0  83000.0        No\n",
            "9   France  37.0  67000.0       Yes\n"
          ]
        }
      ]
    },
    {
      "cell_type": "code",
      "source": [
        "# filling the missing data with the mean value in the particular column\n",
        "from pandas import read_csv as rc\n",
        "df = rc('Data.csv')\n",
        "m=df['Age'].mean()\n",
        "df['Age'].fillna(m,inplace=True)\n",
        "print(df.to_string())"
      ],
      "metadata": {
        "colab": {
          "base_uri": "https://localhost:8080/"
        },
        "id": "40U9sjAim1wX",
        "outputId": "42f48440-dd1e-4862-db99-40768f3df09b"
      },
      "execution_count": 13,
      "outputs": [
        {
          "output_type": "stream",
          "name": "stdout",
          "text": [
            "   Country        Age   Salary Purchased\n",
            "0   France  44.000000  72000.0        No\n",
            "1    Spain  27.000000  48000.0       Yes\n",
            "2  Germany  30.000000  54000.0        No\n",
            "3    Spain  38.000000  61000.0        No\n",
            "4  Germany  40.000000      NaN       Yes\n",
            "5   France  35.000000  58000.0       Yes\n",
            "6    Spain  38.777778  52000.0        No\n",
            "7   France  48.000000  79000.0       Yes\n",
            "8  Germany  50.000000  83000.0        No\n",
            "9   France  37.000000  67000.0       Yes\n"
          ]
        }
      ]
    },
    {
      "cell_type": "code",
      "source": [
        "# cleaning data of wrong format\n",
        "import pandas as pd\n",
        "from pandas import read_csv as rc\n",
        "df = rc('Data_new.csv')\n",
        "df['Date'] = pd.to_datetime(df['Date'])\n",
        "print(df.to_string())"
      ],
      "metadata": {
        "colab": {
          "base_uri": "https://localhost:8080/"
        },
        "id": "XEU0YsDSmVmq",
        "outputId": "5eb1f4df-e0e1-4275-de7a-5952f509b40a"
      },
      "execution_count": 2,
      "outputs": [
        {
          "output_type": "stream",
          "name": "stdout",
          "text": [
            "   Country   Age   Salary Purchased       Date\n",
            "0   France  44.0  72000.0        No 2000-01-12\n",
            "1    Spain  27.0  48000.0       Yes 2000-12-12\n",
            "2  Germany  30.0  54000.0        No 2000-12-13\n",
            "3    Spain  38.0  61000.0        No 2000-12-14\n",
            "4  Germany  40.0      NaN       Yes 2000-12-21\n",
            "5   France  35.0  58000.0       Yes 2000-12-31\n",
            "6    Spain   NaN  52000.0        No 2000-09-12\n",
            "7   France  48.0  79000.0       Yes 2000-01-11\n",
            "8  Germany  50.0  83000.0        No 2000-01-02\n",
            "9   France  37.0  67000.0       Yes 2000-01-12\n"
          ]
        },
        {
          "output_type": "stream",
          "name": "stderr",
          "text": [
            "<ipython-input-2-66e0000790b3>:5: UserWarning: Parsing dates in DD/MM/YYYY format when dayfirst=False (the default) was specified. This may lead to inconsistently parsed dates! Specify a format to ensure consistent parsing.\n",
            "  df['Date'] = pd.to_datetime(df['Date'])\n"
          ]
        }
      ]
    }
  ]
}